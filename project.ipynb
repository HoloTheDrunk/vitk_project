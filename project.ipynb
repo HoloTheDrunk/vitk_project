{
 "cells": [
  {
   "attachments": {},
   "cell_type": "markdown",
   "metadata": {},
   "source": [
    "# VTK - ITK Project : Etude longitudinale de l'évolution d'une tumeur\n",
    "\n",
    "### Par Raphaël Duhen, Maël Conan et Nigel Andrews"
   ]
  },
  {
   "cell_type": "code",
   "execution_count": 1,
   "metadata": {},
   "outputs": [],
   "source": [
    "# Imports\n",
    "import vtk\n",
    "import itk\n",
    "import matplotlib.pyplot as plt\n",
    "import numpy as np\n",
    "\n",
    "import ipywidgets as widgets\n",
    "from ipywidgets import interact\n",
    "from IPython.display import display, clear_output"
   ]
  },
  {
   "cell_type": "code",
   "execution_count": 2,
   "metadata": {},
   "outputs": [],
   "source": [
    "def run_window(path: str):\n",
    "    reader = vtk.vtkNrrdReader()\n",
    "    reader.SetFileName(path)\n",
    "    \n",
    "    window = vtk.vtkRenderWindow()\n",
    "    renderer = vtk.vtkRenderer()\n",
    "    \n",
    "    window.AddRenderer(renderer)\n",
    "    \n",
    "    interactor = vtk.vtkRenderWindowInteractor()\n",
    "    window.SetInteractor(interactor)\n",
    "    \n",
    "    contour = vtk.vtkContourFilter()\n",
    "    contour.SetInputConnection(reader.GetOutputPort())\n",
    "    contour.SetValue(0, 135)\n",
    "    contour.SetFastOff()\n",
    "    \n",
    "    contourMapper = vtk.vtkPolyDataMapper()\n",
    "    contourMapper.SetInputConnection(contour.GetOutputPort())\n",
    "    contourMapper.ScalarVisibilityOff()\n",
    "    \n",
    "    contourActor = vtk.vtkActor()\n",
    "    contourActor.SetMapper(contourMapper)\n",
    "    \n",
    "    renderer.AddActor(contourActor)\n",
    "    \n",
    "    window.Render()\n",
    "    interactor.Start()"
   ]
  },
  {
   "attachments": {},
   "cell_type": "markdown",
   "metadata": {},
   "source": []
  },
  {
   "cell_type": "code",
   "execution_count": 3,
   "metadata": {},
   "outputs": [],
   "source": [
    "# Define types\n",
    "PixelType = itk.D\n",
    "Dimension = 3\n",
    "ImageType = itk.Image[PixelType, Dimension]\n",
    "TransformType = itk.TranslationTransform[PixelType, Dimension]"
   ]
  },
  {
   "cell_type": "code",
   "execution_count": 4,
   "metadata": {},
   "outputs": [],
   "source": [
    "# Load images\n",
    "image = itk.imread(\"Data/case6_gre1.nrrd\", pixel_type=PixelType)\n",
    "image2 = itk.imread(\"Data/case6_gre2.nrrd\", pixel_type=PixelType) "
   ]
  },
  {
   "cell_type": "code",
   "execution_count": 5,
   "metadata": {},
   "outputs": [],
   "source": [
    "def registration(image, image2):\n",
    "    # Définir le type de transformation\n",
    "    dimension = image.GetImageDimension()\n",
    "    TransformType = itk.TranslationTransform[itk.D, dimension]\n",
    "\n",
    "    # Initialiser la transformation\n",
    "    initial_transform = TransformType.New()\n",
    "    initial_transform.SetIdentity()\n",
    "\n",
    "    # Définir les paramètres de l'optimiseur\n",
    "    optimizer = itk.RegularStepGradientDescentOptimizerv4.New(\n",
    "        LearningRate=4,\n",
    "        MinimumStepLength=0.001,\n",
    "        RelaxationFactor=0.5,\n",
    "        NumberOfIterations=200,\n",
    "    )\n",
    "\n",
    "    # Définir les paramètres de la métrique\n",
    "    metric = itk.MeanSquaresImageToImageMetricv4[ImageType, ImageType].New()\n",
    "\n",
    "    # Définir les paramètres de l'interpolateur\n",
    "    # interpolator = itk.LinearInterpolateImageFunction[ImageType, itk.D].New()\n",
    "\n",
    "    # Définir les paramètres de la méthode de recalage\n",
    "    registration = itk.ImageRegistrationMethodv4[ImageType, ImageType].New(\n",
    "        Metric=metric,\n",
    "        Optimizer=optimizer,\n",
    "        InitialTransform=initial_transform,\n",
    "        FixedImage=image,\n",
    "        MovingImage=image2,\n",
    "    )\n",
    "\n",
    "    # Lancer le recalage\n",
    "    registration.Update()\n",
    "\n",
    "    return registration, optimizer"
   ]
  },
  {
   "cell_type": "code",
   "execution_count": 6,
   "metadata": {},
   "outputs": [],
   "source": [
    "def transform_image(image, image2, registration):\n",
    "    # Transform image\n",
    "    transformed_image = itk.resample_image_filter(\n",
    "        image2,\n",
    "        transform=registration.GetTransform(),\n",
    "        use_reference_image=True,\n",
    "        reference_image=image,\n",
    "        default_pixel_value=100,\n",
    "    )\n",
    "\n",
    "    return transformed_image"
   ]
  },
  {
   "cell_type": "code",
   "execution_count": 8,
   "metadata": {},
   "outputs": [],
   "source": [
    "try:\n",
    "    transformed_image = itk.imread(\"Data/transformed_image.nrrd\", pixel_type=PixelType)\n",
    "except:\n",
    "    registration, optimizer = registration(image, image2)\n",
    "    transformed_image = transform_image(image, image2, registration)"
   ]
  },
  {
   "cell_type": "code",
   "execution_count": 10,
   "metadata": {},
   "outputs": [
    {
     "data": {
      "application/vnd.jupyter.widget-view+json": {
       "model_id": "f4e7c9137a4a40fca7f8bf1a112c039c",
       "version_major": 2,
       "version_minor": 0
      },
      "text/plain": [
       "interactive(children=(IntSlider(value=88, description='fixed', max=176), IntSlider(value=88, description='movi…"
      ]
     },
     "metadata": {},
     "output_type": "display_data"
    }
   ],
   "source": [
    "clear_output()\n",
    "\n",
    "array_view = itk.array_view_from_image(transformed_image)\n",
    "original_fixed_view = itk.array_view_from_image(image)\n",
    "original_moving_view = itk.array_view_from_image(image2)\n",
    "\n",
    "# fixed_slider = widgets.IntSlider(value=135, min=0, max=original_fixed_view.shape[0])\n",
    "# display(fixed_slider)\n",
    "\n",
    "# @interact(fixed=widgets.IntSlider(value=135, min=0, max=original_fixed_view.shape[0]),\n",
    "#           moving=widgets.IntSlider(value=135, min=0, max=original_moving_view.shape[0]),\n",
    "#           transformed=widgets.IntSlider(value=135, min=0, max=array_view.shape[0]))\n",
    "@interact(fixed=(0, original_fixed_view.shape[0]),\n",
    "          moving=(0, original_moving_view.shape[0]),\n",
    "          transformed=(0, array_view.shape[0]))\n",
    "def plot_slices(fixed: int, moving: int, transformed: int):\n",
    "    plt.figure(figsize=(15, 15))\n",
    "    plt.subplot(1, 3, 1)\n",
    "    plt.imshow(original_fixed_view[fixed, :, :], cmap=\"gray\")\n",
    "    plt.title(\"Fixed image\")\n",
    "    plt.subplot(1, 3, 2)\n",
    "    plt.imshow(original_moving_view[moving, :, :], cmap=\"gray\")\n",
    "    plt.title(\"Moving image\")\n",
    "    plt.subplot(1, 3, 3)\n",
    "    plt.imshow(array_view[transformed, :, :], cmap=\"gray\")\n",
    "    plt.title(\"Transformed image\")\n",
    "    plt.show()"
   ]
  },
  {
   "cell_type": "code",
   "execution_count": 31,
   "metadata": {},
   "outputs": [],
   "source": [
    "# Save image\n",
    "itk.imwrite(transformed_image, \"Data/transformed_image.nrrd\")"
   ]
  },
  {
   "cell_type": "code",
   "execution_count": 37,
   "metadata": {},
   "outputs": [
    {
     "name": "stdout",
     "output_type": "stream",
     "text": [
      "Final parameters =  -0.8339130025804753\n",
      "Final parameters =  -3.54112087911544\n",
      "Final parameters =  -59.455066840126456\n",
      "Final parameters =  3.88e-321\n",
      "Final parameters =  1.5e-323\n",
      "Final parameters =  6.94223094131595e-310\n",
      "Number of iterations =  20\n"
     ]
    }
   ],
   "source": [
    "# Get final parameters\n",
    "final_parameters = registration.GetOutput().Get().GetParameters()\n",
    "\n",
    "# # Get final metric value\n",
    "# final_metric_value = registration.GetMetricValue()\n",
    "\n",
    "# Get final number of iterations\n",
    "final_number_of_iterations = optimizer.GetCurrentIteration()\n",
    "\n",
    "# Print final parameters in detail\n",
    "print(\"Final parameters = \", final_parameters.GetElement(0))\n",
    "print(\"Final parameters = \", final_parameters.GetElement(1))\n",
    "print(\"Final parameters = \", final_parameters.GetElement(2))\n",
    "print(\"Final parameters = \", final_parameters.GetElement(3))\n",
    "print(\"Final parameters = \", final_parameters.GetElement(4))\n",
    "print(\"Final parameters = \", final_parameters.GetElement(5))\n",
    "\n",
    "# print(\"Metric value = \", final_metric_value)\n",
    "print(\"Number of iterations = \", final_number_of_iterations)"
   ]
  },
  {
   "cell_type": "code",
   "execution_count": 14,
   "metadata": {},
   "outputs": [],
   "source": [
    "# Segment tumour using ITK \n",
    "def segment_tumour(image):\n",
    "    # Define types\n",
    "    PixelType = itk.UC\n",
    "    Dimension = 3\n",
    "    ImageType = itk.Image[PixelType, Dimension]\n",
    "\n",
    "    # Load image\n",
    "    image = itk.imread(image, pixel_type=PixelType)\n",
    "\n",
    "    # Define threshold filter\n",
    "    threshold_filter = itk.BinaryThresholdImageFilter[ImageType, ImageType].New(\n",
    "        Input=image,\n",
    "        LowerThreshold=0,\n",
    "        UpperThreshold=100,\n",
    "        InsideValue=0,\n",
    "        OutsideValue=1,\n",
    "    )\n",
    "\n",
    "    # Execute threshold filter\n",
    "    threshold_filter.Update()\n",
    "\n",
    "    # Get output of threshold filter\n",
    "    thresholded_image = threshold_filter.GetOutput()\n",
    "\n",
    "    # Define connected component filter\n",
    "    connected_component_filter = itk.ConnectedComponentImageFilter[ImageType, ImageType].New(\n",
    "        Input=thresholded_image\n",
    "    )\n",
    "\n",
    "    # Execute connected component filter\n",
    "    connected_component_filter.Update()\n",
    "\n",
    "    # Get output of connected component filter\n",
    "    connected_image = connected_component_filter.GetOutput()\n",
    "\n",
    "    # Define relabel component filter\n",
    "    relabel_component_filter = itk.RelabelComponentImageFilter[ImageType, ImageType].New(\n",
    "        Input=connected_image\n",
    "    )\n",
    "\n",
    "    # Execute relabel component filter\n",
    "    relabel_component_filter.Update()\n",
    "\n",
    "    # Get output of relabel component filter\n",
    "    relabelled_image = relabel_component_filter.GetOutput()\n",
    "\n",
    "    # Define label statistics filter\n",
    "    label_statistics_filter = itk.LabelStatisticsImageFilter[ImageType, ImageType].New(\n",
    "        Input=image,\n",
    "        LabelInput=relabelled_image,\n",
    "        UseHistograms=True,\n",
    "        HistogramParameters=itk.HistogramMatchingFilter.GetDefaultHistogramParameters(),\n",
    "    )\n",
    "\n",
    "    # Execute label statistics filter\n",
    "    label_statistics_filter.Update()\n",
    "\n",
    "    # Get output of label statistics filter\n",
    "    labelled_image = label_statistics_filter.GetOutput()\n",
    "\n",
    "    # Define connected threshold filter\n",
    "    connected_threshold_filter = itk.ConnectedThresholdImageFilter[ImageType, ImageType].New(\n",
    "        Input=image,\n",
    "        Lower=0,\n",
    "        Upper=100,\n",
    "        Seed=label_statistics_filter.GetMean(1),\n",
    "        ReplaceValue=1,\n",
    "    )\n",
    "\n",
    "    # Execute connected threshold filter\n",
    "    connected_threshold_filter.Update()\n",
    "\n",
    "    # Get output of connected threshold filter\n",
    "    segmented_image = connected_threshold_filter.GetOutput()\n",
    "\n",
    "    return segmented_image, labelled_image"
   ]
  },
  {
   "cell_type": "code",
   "execution_count": null,
   "metadata": {},
   "outputs": [],
   "source": []
  }
 ],
 "metadata": {
  "kernelspec": {
   "display_name": ".venv",
   "language": "python",
   "name": "python3"
  },
  "language_info": {
   "codemirror_mode": {
    "name": "ipython",
    "version": 3
   },
   "file_extension": ".py",
   "mimetype": "text/x-python",
   "name": "python",
   "nbconvert_exporter": "python",
   "pygments_lexer": "ipython3",
   "version": "3.11.3"
  },
  "orig_nbformat": 4
 },
 "nbformat": 4,
 "nbformat_minor": 2
}
