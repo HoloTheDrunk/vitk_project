{
 "cells": [
  {
   "cell_type": "markdown",
   "metadata": {},
   "source": [
    "# VTK - ITK Project : Etude longitudinale de l'évolution d'une tumeur\n",
    "\n",
    "### Par Raphael Duhen et Andrews Nigel"
   ]
  },
  {
   "cell_type": "code",
   "execution_count": 1,
   "metadata": {},
   "outputs": [],
   "source": [
    "# Imports\n",
    "import vtk\n",
    "import itk\n",
    "import matplotlib.pyplot as plt\n",
    "import numpy as np"
   ]
  },
  {
   "cell_type": "code",
   "execution_count": 2,
   "metadata": {},
   "outputs": [],
   "source": [
    "reader = vtk.vtkNrrdReader()\n",
    "reader.SetFileName(\"Data/case6_gre1.nrrd\")\n",
    "\n",
    "window = vtk.vtkRenderWindow()\n",
    "renderer = vtk.vtkRenderer()\n",
    "\n",
    "window.AddRenderer(renderer)\n",
    "\n",
    "interactor = vtk.vtkRenderWindowInteractor()\n",
    "window.SetInteractor(interactor)\n",
    "\n",
    "contour = vtk.vtkContourFilter()\n",
    "contour.SetInputConnection(reader.GetOutputPort())\n",
    "contour.SetValue(0, 135)\n",
    "\n",
    "contourMapper = vtk.vtkPolyDataMapper()\n",
    "contourMapper.SetInputConnection(contour.GetOutputPort())\n",
    "contourMapper.ScalarVisibilityOff()\n",
    "\n",
    "contourActor = vtk.vtkActor()\n",
    "contourActor.SetMapper(contourMapper)\n",
    "\n",
    "renderer.AddActor(contourActor)\n",
    "\n",
    "window.Render()\n",
    "interactor.Start()"
   ]
  },
  {
   "cell_type": "code",
   "execution_count": null,
   "metadata": {},
   "outputs": [],
   "source": []
  }
 ],
 "metadata": {
  "kernelspec": {
   "display_name": ".venv",
   "language": "python",
   "name": "python3"
  },
  "language_info": {
   "codemirror_mode": {
    "name": "ipython",
    "version": 3
   },
   "file_extension": ".py",
   "mimetype": "text/x-python",
   "name": "python",
   "nbconvert_exporter": "python",
   "pygments_lexer": "ipython3",
   "version": "3.11.3"
  },
  "orig_nbformat": 4
 },
 "nbformat": 4,
 "nbformat_minor": 2
}
