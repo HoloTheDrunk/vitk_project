{
 "cells": [
  {
   "attachments": {},
   "cell_type": "markdown",
   "metadata": {},
   "source": [
    "# VTK - ITK Project : Etude longitudinale de l'évolution d'une tumeur\n",
    "\n",
    "### Par Raphaël Duhen, Maël Conan et Nigel Andrews"
   ]
  },
  {
   "cell_type": "code",
   "execution_count": 16,
   "metadata": {},
   "outputs": [],
   "source": [
    "from typing import Tuple\n",
    "\n",
    "import vtk\n",
    "import itk\n",
    "\n",
    "import matplotlib\n",
    "import matplotlib.pyplot as plt\n",
    "import numpy as np\n",
    "import numpy.ma as ma\n",
    "\n",
    "import ipywidgets as widgets\n",
    "from ipywidgets import interact\n",
    "from IPython.display import display, clear_output"
   ]
  },
  {
   "cell_type": "code",
   "execution_count": 17,
   "metadata": {},
   "outputs": [],
   "source": [
    "def run_window(path: str):\n",
    "    reader = vtk.vtkNrrdReader()\n",
    "    reader.SetFileName(path)\n",
    "    \n",
    "    window = vtk.vtkRenderWindow()\n",
    "    renderer = vtk.vtkRenderer()\n",
    "    \n",
    "    window.AddRenderer(renderer)\n",
    "    \n",
    "    interactor = vtk.vtkRenderWindowInteractor()\n",
    "    window.SetInteractor(interactor)\n",
    "    \n",
    "    contour = vtk.vtkContourFilter()\n",
    "    contour.SetInputConnection(reader.GetOutputPort())\n",
    "    contour.SetValue(0, 135)\n",
    "    \n",
    "    contourMapper = vtk.vtkPolyDataMapper()\n",
    "    contourMapper.SetInputConnection(contour.GetOutputPort())\n",
    "    contourMapper.ScalarVisibilityOff()\n",
    "    \n",
    "    contourActor = vtk.vtkActor()\n",
    "    contourActor.SetMapper(contourMapper)\n",
    "    \n",
    "    renderer.AddActor(contourActor)\n",
    "    \n",
    "    window.Render()\n",
    "    interactor.Start()"
   ]
  },
  {
   "attachments": {},
   "cell_type": "markdown",
   "metadata": {},
   "source": []
  },
  {
   "cell_type": "code",
   "execution_count": 18,
   "metadata": {},
   "outputs": [],
   "source": [
    "PixelType = itk.D\n",
    "Dimension = 3\n",
    "ImageType = itk.Image[PixelType, Dimension]\n",
    "TransformType = itk.TranslationTransform[PixelType, Dimension]"
   ]
  },
  {
   "cell_type": "code",
   "execution_count": 19,
   "metadata": {},
   "outputs": [],
   "source": [
    "image = itk.imread(\"Data/case6_gre1.nrrd\", pixel_type=PixelType)\n",
    "image2 = itk.imread(\"Data/case6_gre2.nrrd\", pixel_type=PixelType) "
   ]
  },
  {
   "cell_type": "code",
   "execution_count": 20,
   "metadata": {},
   "outputs": [],
   "source": [
    "def registrate(image, image2):\n",
    "    dimension = image.GetImageDimension()\n",
    "    TransformType = itk.TranslationTransform[itk.D, dimension]\n",
    "\n",
    "    initial_transform = TransformType.New()\n",
    "    initial_transform.SetIdentity()\n",
    "\n",
    "    optimizer = itk.RegularStepGradientDescentOptimizerv4.New(\n",
    "        LearningRate=4,\n",
    "        MinimumStepLength=0.001,\n",
    "        RelaxationFactor=0.5,\n",
    "        NumberOfIterations=200,\n",
    "    )\n",
    "\n",
    "    metric = itk.MeanSquaresImageToImageMetricv4[ImageType, ImageType].New()\n",
    "\n",
    "    registration = itk.ImageRegistrationMethodv4[ImageType, ImageType].New(\n",
    "        Metric=metric,\n",
    "        Optimizer=optimizer,\n",
    "        InitialTransform=initial_transform,\n",
    "        FixedImage=image,\n",
    "        MovingImage=image2,\n",
    "    )\n",
    "\n",
    "    registration.Update()\n",
    "\n",
    "    return registration, optimizer"
   ]
  },
  {
   "cell_type": "code",
   "execution_count": 21,
   "metadata": {},
   "outputs": [],
   "source": [
    "def transform_image(image, image2, registration):\n",
    "    transformed_image = itk.resample_image_filter(\n",
    "        image2,\n",
    "        transform=registration.GetTransform(),\n",
    "        use_reference_image=True,\n",
    "        reference_image=image,\n",
    "        default_pixel_value=100,\n",
    "    )\n",
    "\n",
    "    return transformed_image"
   ]
  },
  {
   "cell_type": "code",
   "execution_count": 22,
   "metadata": {},
   "outputs": [],
   "source": [
    "registration = None\n",
    "\n",
    "try:\n",
    "    transformed_image = itk.imread(\"Data/transformed_image.nrrd\", pixel_type=PixelType)\n",
    "except:\n",
    "    registration, optimizer = registrate(image, image2)\n",
    "    transformed_image = transform_image(image, image2, registration)"
   ]
  },
  {
   "cell_type": "code",
   "execution_count": 23,
   "metadata": {},
   "outputs": [
    {
     "data": {
      "application/vnd.jupyter.widget-view+json": {
       "model_id": "69e454d25f5d42a181d527845e8a547a",
       "version_major": 2,
       "version_minor": 0
      },
      "text/plain": [
       "interactive(children=(IntSlider(value=81, description='fixed', max=176), IntSlider(value=81, description='movi…"
      ]
     },
     "metadata": {},
     "output_type": "display_data"
    }
   ],
   "source": [
    "clear_output()\n",
    "\n",
    "array_view = itk.array_view_from_image(transformed_image)\n",
    "original_fixed_view = itk.array_view_from_image(image)\n",
    "original_moving_view = itk.array_view_from_image(image2)\n",
    "\n",
    "@interact(fixed=(0, original_fixed_view.shape[0]),\n",
    "          moving=(0, original_moving_view.shape[0]),\n",
    "          transformed=(0, array_view.shape[0]))\n",
    "def plot_slices(fixed: int = 81, moving: int = 81, transformed: int = 81):\n",
    "    plt.figure(figsize=(15, 15))\n",
    "\n",
    "    plt.subplot(1, 3, 1)\n",
    "    plt.imshow(original_fixed_view[fixed, :, :], cmap=\"gray\", interpolation_stage='rgba')\n",
    "    plt.title(\"Fixed image\")\n",
    "\n",
    "    plt.subplot(1, 3, 2)\n",
    "    plt.imshow(original_moving_view[moving, :, :], cmap=\"gray\", interpolation_stage='rgba')\n",
    "    plt.title(\"Moving image\")\n",
    "\n",
    "    plt.subplot(1, 3, 3)\n",
    "    plt.imshow(array_view[transformed, :, :], cmap=\"gray\", interpolation_stage='rgba')\n",
    "    plt.title(\"Transformed image\")\n",
    "\n",
    "    plt.show()"
   ]
  },
  {
   "cell_type": "code",
   "execution_count": 24,
   "metadata": {},
   "outputs": [],
   "source": [
    "itk.imwrite(transformed_image, \"Data/transformed_image.nrrd\")"
   ]
  },
  {
   "cell_type": "code",
   "execution_count": 25,
   "metadata": {},
   "outputs": [],
   "source": [
    "if registration is not None:\n",
    "    final_parameters = registration.GetOutput().Get().GetParameters()\n",
    "\n",
    "    final_number_of_iterations = optimizer.GetCurrentIteration()\n",
    "\n",
    "    print(\"Final parameters = \", final_parameters.GetElement(0))\n",
    "    print(\"Final parameters = \", final_parameters.GetElement(1))\n",
    "    print(\"Final parameters = \", final_parameters.GetElement(2))\n",
    "    print(\"Final parameters = \", final_parameters.GetElement(3))\n",
    "    print(\"Final parameters = \", final_parameters.GetElement(4))\n",
    "    print(\"Final parameters = \", final_parameters.GetElement(5))\n",
    "\n",
    "    print(\"Number of iterations = \", final_number_of_iterations)"
   ]
  },
  {
   "cell_type": "code",
   "execution_count": 26,
   "metadata": {},
   "outputs": [],
   "source": [
    "def segmentation(image, lower: int = 400):\n",
    "    PixelType = itk.D\n",
    "    Dimension = 3\n",
    "    ImageType = itk.Image[PixelType, Dimension]\n",
    "\n",
    "    segmentation_filter = itk.ConnectedThresholdImageFilter[ImageType, ImageType].New(\n",
    "        Lower=lower,\n",
    "        Upper=1200,\n",
    "        ReplaceValue=255,\n",
    "        # This seed corresponds to a spot roughly near the center of the tumor.\n",
    "        Seed=itk.Index[Dimension]([60, 120, 82]),\n",
    "    )\n",
    "    segmentation_filter.SetInput(image)\n",
    "    segmentation_filter.Update()\n",
    "\n",
    "    return segmentation_filter.GetOutput()"
   ]
  },
  {
   "cell_type": "code",
   "execution_count": 27,
   "metadata": {},
   "outputs": [],
   "source": [
    "segmented_image = segmentation(transformed_image)"
   ]
  },
  {
   "cell_type": "code",
   "execution_count": 28,
   "metadata": {},
   "outputs": [],
   "source": [
    "segmented_slices = itk.array_view_from_image(segmented_image)"
   ]
  },
  {
   "cell_type": "code",
   "execution_count": 29,
   "metadata": {},
   "outputs": [],
   "source": [
    "masked_slices = ma.masked_array(array_view, mask=(segmented_slices == 0))"
   ]
  },
  {
   "cell_type": "code",
   "execution_count": 30,
   "metadata": {},
   "outputs": [],
   "source": [
    "mask_cmap = matplotlib.cm.inferno\n",
    "mask_cmap.set_bad('black', 1)"
   ]
  },
  {
   "cell_type": "code",
   "execution_count": 31,
   "metadata": {},
   "outputs": [
    {
     "data": {
      "application/vnd.jupyter.widget-view+json": {
       "model_id": "8859fa8bf0664c249f67a79e39a3e059",
       "version_major": 2,
       "version_minor": 0
      },
      "text/plain": [
       "interactive(children=(IntSlider(value=81, description='slice', max=175), Output()), _dom_classes=('widget-inte…"
      ]
     },
     "metadata": {},
     "output_type": "display_data"
    }
   ],
   "source": [
    "clear_output()\n",
    "\n",
    "@interact(slice=(0, segmented_slices.shape[0] - 1))\n",
    "def plot_segmentation(slice: int = 81):\n",
    "    plt.figure(figsize=(15, 15))\n",
    "\n",
    "    plt.subplot(1, 3, 1)\n",
    "    plt.imshow(array_view[slice, :, :], cmap=\"inferno\", interpolation_stage='rgba')\n",
    "    plt.title(\"Transformed image\")\n",
    "\n",
    "    plt.subplot(1, 3, 2)\n",
    "    plt.imshow(segmented_slices[slice, :, :], cmap=\"gray\", interpolation_stage='rgba')\n",
    "    plt.title(\"Segmented image\")\n",
    "\n",
    "    plt.subplot(1, 3, 3)\n",
    "    plt.imshow(masked_slices[slice, :, :], cmap=mask_cmap, interpolation_stage='rgba')\n",
    "    plt.title(\"Mask result\")\n",
    "    plt.show()"
   ]
  },
  {
   "cell_type": "code",
   "execution_count": 32,
   "metadata": {},
   "outputs": [
    {
     "data": {
      "application/vnd.jupyter.widget-view+json": {
       "model_id": "cb3f5c6ce2a540649e17e6e88273b459",
       "version_major": 2,
       "version_minor": 0
      },
      "text/plain": [
       "interactive(children=(IntRangeSlider(value=(103, 141), description='x', max=256), IntRangeSlider(value=(56, 77…"
      ]
     },
     "metadata": {},
     "output_type": "display_data"
    }
   ],
   "source": [
    "box = [(0, segmented_slices.shape[0]), (0, segmented_slices.shape[1]), (0, segmented_slices.shape[2])]\n",
    "\n",
    "@interact(\n",
    "    x=widgets.IntRangeSlider(value=[103,141], min=0, max=segmented_slices.shape[1]),\n",
    "    y=widgets.IntRangeSlider(value=[56,77], min=0, max=segmented_slices.shape[2]),\n",
    "    z=widgets.IntRangeSlider(value=[69,89], min=0, max=segmented_slices.shape[0]),\n",
    "    side_slice=(0, segmented_slices.shape[0]),\n",
    "    top_slice=(0, segmented_slices.shape[1]),\n",
    ")\n",
    "def handfind_tumor_bounds(x: Tuple[int, int], y: Tuple[int, int], z: Tuple[int, int], side_slice: int = 81, top_slice: int = 66):\n",
    "    plt.figure(figsize=(15, 15))\n",
    "\n",
    "    plt.subplot(1, 2, 1)\n",
    "    plt.imshow(masked_slices[side_slice, y[0]:y[1], x[0]:x[1]], cmap=mask_cmap, interpolation_stage='rgba')\n",
    "    plt.title(\"Side view\")\n",
    "\n",
    "    ax = plt.subplot(1, 2, 2)\n",
    "    plt.imshow(masked_slices[z[0]:z[1], top_slice, x[0]:x[1]], cmap=mask_cmap, interpolation_stage='rgba')\n",
    "    plt.title(\"Top view\")\n",
    "\n",
    "    global box\n",
    "    box = [tuple([*z]), tuple([*y]), tuple([*x])]"
   ]
  },
  {
   "cell_type": "code",
   "execution_count": 33,
   "metadata": {},
   "outputs": [
    {
     "name": "stdout",
     "output_type": "stream",
     "text": [
      "[slice(69, 89, None), slice(56, 77, None), slice(103, 141, None)]\n"
     ]
    }
   ],
   "source": [
    "box_slice = [slice(*tup) for tup in box]\n",
    "print(box_slice)"
   ]
  },
  {
   "cell_type": "code",
   "execution_count": 34,
   "metadata": {},
   "outputs": [],
   "source": [
    "box_mask = np.zeros(masked_slices.shape, dtype=bool)\n",
    "box_mask[*box_slice] = True\n",
    "boxed_tumor_slices = ma.masked_array(masked_slices, ~box_mask).filled(0)"
   ]
  },
  {
   "cell_type": "code",
   "execution_count": 35,
   "metadata": {},
   "outputs": [
    {
     "data": {
      "application/vnd.jupyter.widget-view+json": {
       "model_id": "82d9ad3738794d64936f63232b0e9750",
       "version_major": 2,
       "version_minor": 0
      },
      "text/plain": [
       "interactive(children=(IntSlider(value=81, description='slice', max=89, min=69), Output()), _dom_classes=('widg…"
      ]
     },
     "metadata": {},
     "output_type": "display_data"
    }
   ],
   "source": [
    "clear_output()\n",
    "\n",
    "@interact(slice=box[0])\n",
    "def show_mask(slice: int = 81):\n",
    "    plt.imshow(boxed_tumor_slices[slice, *box_slice[1:3]], cmap=mask_cmap)"
   ]
  },
  {
   "cell_type": "code",
   "execution_count": 36,
   "metadata": {},
   "outputs": [],
   "source": [
    "# Uncomment to open tumor in viewer\n",
    "# itk.imwrite(itk.image_view_from_array(boxed_tumor_slices), \"Data/tumor2.nrrd\")\n",
    "# run_window(\"Data/tumor2.nrrd\")"
   ]
  },
  {
   "attachments": {},
   "cell_type": "markdown",
   "metadata": {},
   "source": [
    "With the segmentation done for the second scan, we can replicate the process for the original scan, though we'll need to make use of morphological operations to clear the more proeminent noise."
   ]
  },
  {
   "cell_type": "code",
   "execution_count": 51,
   "metadata": {},
   "outputs": [
    {
     "data": {
      "application/vnd.jupyter.widget-view+json": {
       "model_id": "54db3853e2094b7fae0c02b161416c9e",
       "version_major": 2,
       "version_minor": 0
      },
      "text/plain": [
       "interactive(children=(IntSlider(value=81, description='slice', max=88, min=70), Output()), _dom_classes=('widg…"
      ]
     },
     "metadata": {},
     "output_type": "display_data"
    }
   ],
   "source": [
    "def run():\n",
    "    image = itk.imread(\"Data/case6_gre1.nrrd\", pixel_type=itk.D)\n",
    "    image_slices = itk.array_view_from_image(image)\n",
    "\n",
    "    segmented = segmentation(image, lower=350)\n",
    "    segmented_slices = itk.array_view_from_image(segmented) \n",
    "\n",
    "    masked_slices = ma.masked_array(image_slices, mask=(segmented_slices == 0))\n",
    "    boxed_tumor_slices = ma.masked_array(masked_slices, ~box_mask).filled(0)\n",
    "\n",
    "    return boxed_tumor_slices\n",
    "\n",
    "original_slices = run()\n",
    "\n",
    "@interact(slice=(70, 88))\n",
    "def display(slice: int = 81):\n",
    "    plt.imshow(original_slices[slice, *box_slice[1:3]], cmap=mask_cmap)"
   ]
  },
  {
   "attachments": {},
   "cell_type": "markdown",
   "metadata": {},
   "source": [
    "As we can see on slices 87 and 88, there is a large amount of noise. We'll get rid of these two slices as their positive impact on the volume of the original tumor will fake results."
   ]
  },
  {
   "cell_type": "code",
   "execution_count": 53,
   "metadata": {},
   "outputs": [],
   "source": [
    "original_slices = original_slices[:87]"
   ]
  },
  {
   "cell_type": "code",
   "execution_count": 54,
   "metadata": {},
   "outputs": [],
   "source": [
    "# Uncomment to open original tumor in viewer\n",
    "# itk.imwrite(itk.image_view_from_array(original_slices), \"Data/tumor1.nrrd\")\n",
    "# run_window(\"Data/tumor1.nrrd\")"
   ]
  },
  {
   "attachments": {},
   "cell_type": "markdown",
   "metadata": {},
   "source": [
    "# 4. Analyse et visualisation des changements"
   ]
  },
  {
   "cell_type": "code",
   "execution_count": 63,
   "metadata": {},
   "outputs": [
    {
     "data": {
      "text/plain": [
       "12.066856909906235"
      ]
     },
     "execution_count": 63,
     "metadata": {},
     "output_type": "execute_result"
    }
   ],
   "source": [
    "100 * np.count_nonzero(boxed_tumor_slices) / np.count_nonzero(original_slices) - 100"
   ]
  },
  {
   "attachments": {},
   "cell_type": "markdown",
   "metadata": {},
   "source": [
    "On remarque une augmentation du volume de la tumeur d'environ 12%."
   ]
  },
  {
   "cell_type": "code",
   "execution_count": 62,
   "metadata": {},
   "outputs": [
    {
     "data": {
      "text/plain": [
       "9.486441507044262"
      ]
     },
     "execution_count": 62,
     "metadata": {},
     "output_type": "execute_result"
    }
   ],
   "source": [
    "100 * int(boxed_tumor_slices.sum(axis=2).sum()) / int(original_slices.sum(axis=2).sum()) - 100"
   ]
  },
  {
   "attachments": {},
   "cell_type": "markdown",
   "metadata": {},
   "source": [
    "L'intensité des voxels de la tumeur n'a quant à elle évolué que d'environ 9.5%, ce qui tend à indiquer que certaines parties de la tumeur ont une concentration en cellules cancéreuses moins élevée. Cette différence pourrait cependant aussi être attribuée à des erreurs d'approximation provenant des processus de recalage et de segmentation."
   ]
  }
 ],
 "metadata": {
  "kernelspec": {
   "display_name": ".venv",
   "language": "python",
   "name": "python3"
  },
  "language_info": {
   "codemirror_mode": {
    "name": "ipython",
    "version": 3
   },
   "file_extension": ".py",
   "mimetype": "text/x-python",
   "name": "python",
   "nbconvert_exporter": "python",
   "pygments_lexer": "ipython3",
   "version": "3.11.3"
  },
  "orig_nbformat": 4
 },
 "nbformat": 4,
 "nbformat_minor": 2
}
