{
 "cells": [
  {
   "cell_type": "markdown",
   "metadata": {},
   "source": [
    "# VTK - ITK Project : Etude longitudinale de l'évolution d'une tumeur\n",
    "\n",
    "### Par Raphael Duhen, Mael Conan et Andrews Nigel"
   ]
  },
  {
   "cell_type": "code",
   "execution_count": 1,
   "metadata": {},
   "outputs": [],
   "source": [
    "# Imports\n",
    "import vtk\n",
    "import itk\n",
    "import matplotlib.pyplot as plt\n",
    "import numpy as np"
   ]
  },
  {
   "cell_type": "code",
   "execution_count": 2,
   "metadata": {},
   "outputs": [],
   "source": [
    "reader = vtk.vtkNrrdReader()\n",
    "reader.SetFileName(\"Data/case6_gre1.nrrd\")\n",
    "\n",
    "window = vtk.vtkRenderWindow()\n",
    "renderer = vtk.vtkRenderer()\n",
    "\n",
    "window.AddRenderer(renderer)\n",
    "\n",
    "interactor = vtk.vtkRenderWindowInteractor()\n",
    "window.SetInteractor(interactor)\n",
    "\n",
    "contour = vtk.vtkContourFilter()\n",
    "contour.SetInputConnection(reader.GetOutputPort())\n",
    "contour.SetValue(0, 135)\n",
    "\n",
    "contourMapper = vtk.vtkPolyDataMapper()\n",
    "contourMapper.SetInputConnection(contour.GetOutputPort())\n",
    "contourMapper.ScalarVisibilityOff()\n",
    "\n",
    "contourActor = vtk.vtkActor()\n",
    "contourActor.SetMapper(contourMapper)\n",
    "\n",
    "renderer.AddActor(contourActor)\n",
    "\n",
    "window.Render()\n",
    "interactor.Start()"
   ]
  },
  {
   "cell_type": "code",
   "execution_count": 3,
   "metadata": {},
   "outputs": [],
   "source": [
    "# Define types\n",
    "PixelType = itk.ctype('float')\n",
    "Dimension = 3\n",
    "ImageType = itk.Image[PixelType, Dimension]\n",
    "TransformType = itk.Euler3DTransform[itk.D]"
   ]
  },
  {
   "cell_type": "code",
   "execution_count": 4,
   "metadata": {},
   "outputs": [],
   "source": [
    "# Load images\n",
    "image = itk.imread(\"Data/case6_gre1.nrrd\", pixel_type=PixelType)\n",
    "image2 = itk.imread(\"Data/case6_gre2.nrrd\", pixel_type=PixelType) "
   ]
  },
  {
   "cell_type": "code",
   "execution_count": 5,
   "metadata": {},
   "outputs": [],
   "source": [
    "initial_transform = TransformType.New()\n",
    "\n",
    "# Set initial transform parameters\n",
    "initial_transform.SetRotation(0.0, 0.0, 0.0)\n",
    "initial_transform.SetTranslation(0.0)\n",
    "\n",
    "# Set optimizer parameters\n",
    "optimizer = itk.RegularStepGradientDescentOptimizerv4.New(\n",
    "    LearningRate=4,\n",
    "    MinimumStepLength=0.001,\n",
    "    RelaxationFactor=0.5,\n",
    "    NumberOfIterations=200,\n",
    ")\n",
    "\n",
    "# Set metric parameters\n",
    "metric = itk.MeanSquaresImageToImageMetricv4[ImageType, ImageType].New()\n",
    "\n",
    "# Set interpolator parameters\n",
    "interpolator = itk.LinearInterpolateImageFunction[ImageType, itk.D].New()\n",
    "\n",
    "# Set registration parameters\n",
    "registration = itk.ImageRegistrationMethodv4[ImageType, ImageType].New(\n",
    "    Metric=metric,\n",
    "    Optimizer=optimizer,\n",
    "    InitialTransform=initial_transform,\n",
    "    FixedImage=image,\n",
    "    MovingImage=image2,\n",
    ")\n",
    "\n",
    "# Start registration\n",
    "registration.Update()"
   ]
  },
  {
   "cell_type": "code",
   "execution_count": 6,
   "metadata": {},
   "outputs": [],
   "source": [
    "\n",
    "# Transform image\n",
    "transformed_image = itk.resample_image_filter(\n",
    "    image2,\n",
    "    transform=registration.GetTransform(),\n",
    "    use_reference_image=True,\n",
    "    reference_image=image,\n",
    "    default_pixel_value=100,\n",
    ")"
   ]
  },
  {
   "cell_type": "code",
   "execution_count": 8,
   "metadata": {},
   "outputs": [],
   "source": [
    "\n",
    "# Plot images\n",
    "# plt.figure(figsize=(10, 10))\n",
    "# \n",
    "# plt.subplot(1, 2, 1)\n",
    "# plt.imshow(itk.array_from_image(image))\n",
    "# plt.title(\"Fixed image\")\n",
    "# \n",
    "# plt.subplot(1, 2, 2)\n",
    "# plt.imshow(itk.array_from_image(transformed_image))\n",
    "# plt.title(\"Moving image transformed\")\n",
    "# \n",
    "# plt.show()"
   ]
  },
  {
   "cell_type": "code",
   "execution_count": 9,
   "metadata": {},
   "outputs": [],
   "source": [
    "# Save image\n",
    "itk.imwrite(transformed_image, \"Data/transformed_image.nrrd\")"
   ]
  },
  {
   "cell_type": "code",
   "execution_count": 12,
   "metadata": {},
   "outputs": [
    {
     "name": "stdout",
     "output_type": "stream",
     "text": [
      "Result =  <itk.itkOptimizerParametersPython.itkOptimizerParametersD; proxy of <Swig Object of type 'itkOptimizerParametersD *' at 0x15e46c360> >\n",
      "Number of iterations =  200\n"
     ]
    }
   ],
   "source": [
    "# Get final parameters\n",
    "final_parameters = registration.GetOutput().Get().GetParameters()\n",
    "\n",
    "# # Get final metric value\n",
    "# final_metric_value = registration.GetMetricValue()\n",
    "\n",
    "# Get final number of iterations\n",
    "final_number_of_iterations = optimizer.GetCurrentIteration()\n",
    "\n",
    "# Print results\n",
    "print(\"Result = \", final_parameters)\n",
    "# print(\"Metric value = \", final_metric_value)\n",
    "print(\"Number of iterations = \", final_number_of_iterations)"
   ]
  },
  {
   "cell_type": "code",
   "execution_count": null,
   "metadata": {},
   "outputs": [],
   "source": []
  }
 ],
 "metadata": {
  "kernelspec": {
   "display_name": ".venv",
   "language": "python",
   "name": "python3"
  },
  "language_info": {
   "codemirror_mode": {
    "name": "ipython",
    "version": 3
   },
   "file_extension": ".py",
   "mimetype": "text/x-python",
   "name": "python",
   "nbconvert_exporter": "python",
   "pygments_lexer": "ipython3",
   "version": "3.11.3"
  },
  "orig_nbformat": 4
 },
 "nbformat": 4,
 "nbformat_minor": 2
}
