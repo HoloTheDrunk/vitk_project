{
 "cells": [
  {
   "attachments": {},
   "cell_type": "markdown",
   "metadata": {},
   "source": [
    "# VTK - ITK Project : Etude longitudinale de l'évolution d'une tumeur\n",
    "\n",
    "### Par Raphaël Duhen, Maël Conan et Nigel Andrews"
   ]
  },
  {
   "cell_type": "code",
   "execution_count": 23,
   "metadata": {},
   "outputs": [],
   "source": [
    "import vtk\n",
    "import itk\n",
    "import matplotlib.pyplot as plt\n",
    "import numpy as np\n",
    "\n",
    "import ipywidgets as widgets\n",
    "from ipywidgets import interact\n",
    "from IPython.display import display, clear_output"
   ]
  },
  {
   "cell_type": "code",
   "execution_count": 24,
   "metadata": {},
   "outputs": [],
   "source": [
    "def run_window(path: str):\n",
    "    reader = vtk.vtkNrrdReader()\n",
    "    reader.SetFileName(path)\n",
    "    \n",
    "    window = vtk.vtkRenderWindow()\n",
    "    renderer = vtk.vtkRenderer()\n",
    "    \n",
    "    window.AddRenderer(renderer)\n",
    "    \n",
    "    interactor = vtk.vtkRenderWindowInteractor()\n",
    "    window.SetInteractor(interactor)\n",
    "    \n",
    "    contour = vtk.vtkContourFilter()\n",
    "    contour.SetInputConnection(reader.GetOutputPort())\n",
    "    contour.SetValue(0, 135)\n",
    "    contour.SetFastOff()\n",
    "    \n",
    "    contourMapper = vtk.vtkPolyDataMapper()\n",
    "    contourMapper.SetInputConnection(contour.GetOutputPort())\n",
    "    contourMapper.ScalarVisibilityOff()\n",
    "    \n",
    "    contourActor = vtk.vtkActor()\n",
    "    contourActor.SetMapper(contourMapper)\n",
    "    \n",
    "    renderer.AddActor(contourActor)\n",
    "    \n",
    "    window.Render()\n",
    "    interactor.Start()"
   ]
  },
  {
   "attachments": {},
   "cell_type": "markdown",
   "metadata": {},
   "source": []
  },
  {
   "cell_type": "code",
   "execution_count": 25,
   "metadata": {},
   "outputs": [],
   "source": [
    "PixelType = itk.D\n",
    "Dimension = 3\n",
    "ImageType = itk.Image[PixelType, Dimension]\n",
    "TransformType = itk.TranslationTransform[PixelType, Dimension]"
   ]
  },
  {
   "cell_type": "code",
   "execution_count": 26,
   "metadata": {},
   "outputs": [],
   "source": [
    "image = itk.imread(\"Data/case6_gre1.nrrd\", pixel_type=PixelType)\n",
    "image2 = itk.imread(\"Data/case6_gre2.nrrd\", pixel_type=PixelType) "
   ]
  },
  {
   "cell_type": "code",
   "execution_count": 34,
   "metadata": {},
   "outputs": [],
   "source": [
    "def registrate(image, image2):\n",
    "    dimension = image.GetImageDimension()\n",
    "    TransformType = itk.TranslationTransform[itk.D, dimension]\n",
    "\n",
    "    initial_transform = TransformType.New()\n",
    "    initial_transform.SetIdentity()\n",
    "\n",
    "    optimizer = itk.RegularStepGradientDescentOptimizerv4.New(\n",
    "        LearningRate=4,\n",
    "        MinimumStepLength=0.001,\n",
    "        RelaxationFactor=0.5,\n",
    "        NumberOfIterations=200,\n",
    "    )\n",
    "\n",
    "    metric = itk.MeanSquaresImageToImageMetricv4[ImageType, ImageType].New()\n",
    "\n",
    "    registration = itk.ImageRegistrationMethodv4[ImageType, ImageType].New(\n",
    "        Metric=metric,\n",
    "        Optimizer=optimizer,\n",
    "        InitialTransform=initial_transform,\n",
    "        FixedImage=image,\n",
    "        MovingImage=image2,\n",
    "    )\n",
    "\n",
    "    registration.Update()\n",
    "\n",
    "    return registration, optimizer"
   ]
  },
  {
   "cell_type": "code",
   "execution_count": 28,
   "metadata": {},
   "outputs": [],
   "source": [
    "def transform_image(image, image2, registration):\n",
    "    transformed_image = itk.resample_image_filter(\n",
    "        image2,\n",
    "        transform=registration.GetTransform(),\n",
    "        use_reference_image=True,\n",
    "        reference_image=image,\n",
    "        default_pixel_value=100,\n",
    "    )\n",
    "\n",
    "    return transformed_image"
   ]
  },
  {
   "cell_type": "code",
   "execution_count": 39,
   "metadata": {},
   "outputs": [],
   "source": [
    "registration = None\n",
    "\n",
    "try:\n",
    "    transformed_image = itk.imread(\"Data/transformed_image.nrrd\", pixel_type=PixelType)\n",
    "except:\n",
    "    registration, optimizer = registrate(image, image2)\n",
    "    transformed_image = transform_image(image, image2, registration)"
   ]
  },
  {
   "cell_type": "code",
   "execution_count": 36,
   "metadata": {},
   "outputs": [
    {
     "data": {
      "application/vnd.jupyter.widget-view+json": {
       "model_id": "65c551aed23c4b3eade3e7877e3a65fe",
       "version_major": 2,
       "version_minor": 0
      },
      "text/plain": [
       "interactive(children=(IntSlider(value=88, description='fixed', max=176), IntSlider(value=88, description='movi…"
      ]
     },
     "metadata": {},
     "output_type": "display_data"
    }
   ],
   "source": [
    "clear_output()\n",
    "\n",
    "array_view = itk.array_view_from_image(transformed_image)\n",
    "original_fixed_view = itk.array_view_from_image(image)\n",
    "original_moving_view = itk.array_view_from_image(image2)\n",
    "\n",
    "@interact(fixed=(0, original_fixed_view.shape[0]),\n",
    "          moving=(0, original_moving_view.shape[0]),\n",
    "          transformed=(0, array_view.shape[0]))\n",
    "def plot_slices(fixed: int, moving: int, transformed: int):\n",
    "    plt.figure(figsize=(15, 15))\n",
    "    plt.subplot(1, 3, 1)\n",
    "    plt.imshow(original_fixed_view[fixed, :, :], cmap=\"gray\")\n",
    "    plt.title(\"Fixed image\")\n",
    "    plt.subplot(1, 3, 2)\n",
    "    plt.imshow(original_moving_view[moving, :, :], cmap=\"gray\")\n",
    "    plt.title(\"Moving image\")\n",
    "    plt.subplot(1, 3, 3)\n",
    "    plt.imshow(array_view[transformed, :, :], cmap=\"gray\")\n",
    "    plt.title(\"Transformed image\")\n",
    "    plt.show()"
   ]
  },
  {
   "cell_type": "code",
   "execution_count": 37,
   "metadata": {},
   "outputs": [],
   "source": [
    "itk.imwrite(transformed_image, \"Data/transformed_image.nrrd\")"
   ]
  },
  {
   "cell_type": "code",
   "execution_count": 41,
   "metadata": {},
   "outputs": [],
   "source": [
    "if registration is not None:\n",
    "    final_parameters = registration.GetOutput().Get().GetParameters()\n",
    "\n",
    "    final_number_of_iterations = optimizer.GetCurrentIteration()\n",
    "\n",
    "    print(\"Final parameters = \", final_parameters.GetElement(0))\n",
    "    print(\"Final parameters = \", final_parameters.GetElement(1))\n",
    "    print(\"Final parameters = \", final_parameters.GetElement(2))\n",
    "    print(\"Final parameters = \", final_parameters.GetElement(3))\n",
    "    print(\"Final parameters = \", final_parameters.GetElement(4))\n",
    "    print(\"Final parameters = \", final_parameters.GetElement(5))\n",
    "\n",
    "    print(\"Number of iterations = \", final_number_of_iterations)"
   ]
  },
  {
   "cell_type": "code",
   "execution_count": 42,
   "metadata": {},
   "outputs": [],
   "source": [
    "def segmentation(image):\n",
    "    PixelType = itk.D\n",
    "    Dimension = 3\n",
    "    ImageType = itk.Image[PixelType, Dimension]\n",
    "\n",
    "    segmentation_filter = itk.ConnectedThresholdImageFilter[ImageType, ImageType].New(\n",
    "        Lower=100,\n",
    "        Upper=200,\n",
    "        ReplaceValue=255,\n",
    "        Seed=itk.Index[Dimension]([100, 100, 100]),\n",
    "    )\n",
    "    segmentation_filter.SetInput(image)\n",
    "    segmentation_filter.Update()\n",
    "\n",
    "    return segmentation_filter.GetOutput()"
   ]
  },
  {
   "cell_type": "code",
   "execution_count": 43,
   "metadata": {},
   "outputs": [],
   "source": [
    "segmented_image = segmentation(transformed_image)"
   ]
  },
  {
   "cell_type": "code",
   "execution_count": 44,
   "metadata": {},
   "outputs": [],
   "source": [
    "segmented_slices = itk.array_view_from_image(segmented_image)"
   ]
  },
  {
   "cell_type": "code",
   "execution_count": 45,
   "metadata": {},
   "outputs": [
    {
     "data": {
      "application/vnd.jupyter.widget-view+json": {
       "model_id": "cd06ea91836c4ede99d2c1cd03ac1052",
       "version_major": 2,
       "version_minor": 0
      },
      "text/plain": [
       "interactive(children=(IntSlider(value=87, description='slice', max=175), Output()), _dom_classes=('widget-inte…"
      ]
     },
     "metadata": {},
     "output_type": "display_data"
    }
   ],
   "source": [
    "clear_output()\n",
    "\n",
    "@interact(slice=(0, segmented_slices.shape[0] - 1))\n",
    "def plot_segmentation(slice: int):\n",
    "    plt.figure(figsize=(15, 15))\n",
    "    plt.subplot(1, 2, 1)\n",
    "    plt.imshow(array_view[slice, :, :], cmap=\"gray\")\n",
    "    plt.title(\"Transformed image\")\n",
    "    plt.subplot(1, 2, 2)\n",
    "    plt.imshow(segmented_slices[slice, :, :], cmap=\"gray\")\n",
    "    plt.title(\"Segmented image\")\n",
    "    plt.show()"
   ]
  }
 ],
 "metadata": {
  "kernelspec": {
   "display_name": ".venv",
   "language": "python",
   "name": "python3"
  },
  "language_info": {
   "codemirror_mode": {
    "name": "ipython",
    "version": 3
   },
   "file_extension": ".py",
   "mimetype": "text/x-python",
   "name": "python",
   "nbconvert_exporter": "python",
   "pygments_lexer": "ipython3",
   "version": "3.11.3"
  },
  "orig_nbformat": 4
 },
 "nbformat": 4,
 "nbformat_minor": 2
}
